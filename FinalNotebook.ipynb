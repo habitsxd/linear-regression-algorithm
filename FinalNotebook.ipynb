{
 "cells": [
  {
   "cell_type": "code",
   "execution_count": 2,
   "id": "5cfccfc3",
   "metadata": {},
   "outputs": [],
   "source": [
    "import numpy as np\n",
    "import pandas as pd\n"
   ]
  },
  {
   "cell_type": "code",
   "execution_count": 9,
   "id": "31f842a9",
   "metadata": {},
   "outputs": [],
   "source": [
    "df = pd.read_csv('traindata.csv')"
   ]
  },
  {
   "cell_type": "code",
   "execution_count": 10,
   "id": "9ef8186f",
   "metadata": {},
   "outputs": [
    {
     "data": {
      "text/html": [
       "<div>\n",
       "<style scoped>\n",
       "    .dataframe tbody tr th:only-of-type {\n",
       "        vertical-align: middle;\n",
       "    }\n",
       "\n",
       "    .dataframe tbody tr th {\n",
       "        vertical-align: top;\n",
       "    }\n",
       "\n",
       "    .dataframe thead th {\n",
       "        text-align: right;\n",
       "    }\n",
       "</style>\n",
       "<table border=\"1\" class=\"dataframe\">\n",
       "  <thead>\n",
       "    <tr style=\"text-align: right;\">\n",
       "      <th></th>\n",
       "      <th>Bedroom</th>\n",
       "      <th>Bathroom</th>\n",
       "      <th>Den</th>\n",
       "      <th>Address</th>\n",
       "      <th>Lat</th>\n",
       "      <th>Long</th>\n",
       "      <th>Price</th>\n",
       "    </tr>\n",
       "  </thead>\n",
       "  <tbody>\n",
       "    <tr>\n",
       "      <th>0</th>\n",
       "      <td>2</td>\n",
       "      <td>2.0</td>\n",
       "      <td>0</td>\n",
       "      <td>3985 Grand Park Drive, 3985 Grand Park Dr, Mis...</td>\n",
       "      <td>43.581639</td>\n",
       "      <td>-79.648193</td>\n",
       "      <td>$2,450.00</td>\n",
       "    </tr>\n",
       "    <tr>\n",
       "      <th>1</th>\n",
       "      <td>1</td>\n",
       "      <td>1.0</td>\n",
       "      <td>1</td>\n",
       "      <td>361 Front St W, Toronto, ON M5V 3R5, Canada</td>\n",
       "      <td>43.643051</td>\n",
       "      <td>-79.391643</td>\n",
       "      <td>$2,150.00</td>\n",
       "    </tr>\n",
       "    <tr>\n",
       "      <th>2</th>\n",
       "      <td>1</td>\n",
       "      <td>1.0</td>\n",
       "      <td>0</td>\n",
       "      <td>89 McGill Street, Toronto, ON, M5B 0B1</td>\n",
       "      <td>43.660605</td>\n",
       "      <td>-79.378635</td>\n",
       "      <td>$1,950.00</td>\n",
       "    </tr>\n",
       "    <tr>\n",
       "      <th>3</th>\n",
       "      <td>2</td>\n",
       "      <td>2.0</td>\n",
       "      <td>0</td>\n",
       "      <td>10 York Street, Toronto, ON, M5J 0E1</td>\n",
       "      <td>43.641087</td>\n",
       "      <td>-79.381405</td>\n",
       "      <td>$2,900.00</td>\n",
       "    </tr>\n",
       "    <tr>\n",
       "      <th>4</th>\n",
       "      <td>1</td>\n",
       "      <td>1.0</td>\n",
       "      <td>0</td>\n",
       "      <td>80 St Patrick St, Toronto, ON M5T 2X6, Canada</td>\n",
       "      <td>43.652487</td>\n",
       "      <td>-79.389622</td>\n",
       "      <td>$1,800.00</td>\n",
       "    </tr>\n",
       "  </tbody>\n",
       "</table>\n",
       "</div>"
      ],
      "text/plain": [
       "   Bedroom  Bathroom  Den                                            Address  \\\n",
       "0        2       2.0    0  3985 Grand Park Drive, 3985 Grand Park Dr, Mis...   \n",
       "1        1       1.0    1        361 Front St W, Toronto, ON M5V 3R5, Canada   \n",
       "2        1       1.0    0             89 McGill Street, Toronto, ON, M5B 0B1   \n",
       "3        2       2.0    0               10 York Street, Toronto, ON, M5J 0E1   \n",
       "4        1       1.0    0      80 St Patrick St, Toronto, ON M5T 2X6, Canada   \n",
       "\n",
       "         Lat       Long       Price  \n",
       "0  43.581639 -79.648193  $2,450.00   \n",
       "1  43.643051 -79.391643  $2,150.00   \n",
       "2  43.660605 -79.378635  $1,950.00   \n",
       "3  43.641087 -79.381405  $2,900.00   \n",
       "4  43.652487 -79.389622  $1,800.00   "
      ]
     },
     "execution_count": 10,
     "metadata": {},
     "output_type": "execute_result"
    }
   ],
   "source": [
    "df.head()"
   ]
  },
  {
   "cell_type": "code",
   "execution_count": 11,
   "id": "9a90804c",
   "metadata": {},
   "outputs": [
    {
     "data": {
      "text/plain": [
       "<AxesSubplot:xlabel='Lat', ylabel='Long'>"
      ]
     },
     "execution_count": 11,
     "metadata": {},
     "output_type": "execute_result"
    },
    {
     "data": {
      "image/png": "[encoded data removed]",
      "text/plain": [
       "<Figure size 432x288 with 1 Axes>"
      ]
     },
     "metadata": {
      "needs_background": "light"
     },
     "output_type": "display_data"
    }
   ],
   "source": [
    "df.plot(kind='scatter',x='Lat',y='Long')"
   ]
  },
  {
   "cell_type": "code",
   "execution_count": 12,
   "id": "cb9a463a",
   "metadata": {},
   "outputs": [
    {
     "data": {
      "text/html": [
       "<div>\n",
       "<style scoped>\n",
       "    .dataframe tbody tr th:only-of-type {\n",
       "        vertical-align: middle;\n",
       "    }\n",
       "\n",
       "    .dataframe tbody tr th {\n",
       "        vertical-align: top;\n",
       "    }\n",
       "\n",
       "    .dataframe thead th {\n",
       "        text-align: right;\n",
       "    }\n",
       "</style>\n",
       "<table border=\"1\" class=\"dataframe\">\n",
       "  <thead>\n",
       "    <tr style=\"text-align: right;\">\n",
       "      <th></th>\n",
       "      <th>Bedroom</th>\n",
       "      <th>Bathroom</th>\n",
       "      <th>Den</th>\n",
       "      <th>Lat</th>\n",
       "      <th>Long</th>\n",
       "    </tr>\n",
       "  </thead>\n",
       "  <tbody>\n",
       "    <tr>\n",
       "      <th>count</th>\n",
       "      <td>1122.000000</td>\n",
       "      <td>1122.000000</td>\n",
       "      <td>1122.000000</td>\n",
       "      <td>1122.000000</td>\n",
       "      <td>1122.000000</td>\n",
       "    </tr>\n",
       "    <tr>\n",
       "      <th>mean</th>\n",
       "      <td>1.370766</td>\n",
       "      <td>1.237968</td>\n",
       "      <td>0.153298</td>\n",
       "      <td>43.703592</td>\n",
       "      <td>-79.500540</td>\n",
       "    </tr>\n",
       "    <tr>\n",
       "      <th>std</th>\n",
       "      <td>0.553765</td>\n",
       "      <td>0.432265</td>\n",
       "      <td>0.360435</td>\n",
       "      <td>0.693305</td>\n",
       "      <td>1.762217</td>\n",
       "    </tr>\n",
       "    <tr>\n",
       "      <th>min</th>\n",
       "      <td>1.000000</td>\n",
       "      <td>1.000000</td>\n",
       "      <td>0.000000</td>\n",
       "      <td>42.985767</td>\n",
       "      <td>-114.082215</td>\n",
       "    </tr>\n",
       "    <tr>\n",
       "      <th>25%</th>\n",
       "      <td>1.000000</td>\n",
       "      <td>1.000000</td>\n",
       "      <td>0.000000</td>\n",
       "      <td>43.641345</td>\n",
       "      <td>-79.414319</td>\n",
       "    </tr>\n",
       "    <tr>\n",
       "      <th>50%</th>\n",
       "      <td>1.000000</td>\n",
       "      <td>1.000000</td>\n",
       "      <td>0.000000</td>\n",
       "      <td>43.650560</td>\n",
       "      <td>-79.387295</td>\n",
       "    </tr>\n",
       "    <tr>\n",
       "      <th>75%</th>\n",
       "      <td>2.000000</td>\n",
       "      <td>1.000000</td>\n",
       "      <td>0.000000</td>\n",
       "      <td>43.666461</td>\n",
       "      <td>-79.377062</td>\n",
       "    </tr>\n",
       "    <tr>\n",
       "      <th>max</th>\n",
       "      <td>3.000000</td>\n",
       "      <td>3.000000</td>\n",
       "      <td>1.000000</td>\n",
       "      <td>56.130366</td>\n",
       "      <td>-73.576385</td>\n",
       "    </tr>\n",
       "  </tbody>\n",
       "</table>\n",
       "</div>"
      ],
      "text/plain": [
       "           Bedroom     Bathroom          Den          Lat         Long\n",
       "count  1122.000000  1122.000000  1122.000000  1122.000000  1122.000000\n",
       "mean      1.370766     1.237968     0.153298    43.703592   -79.500540\n",
       "std       0.553765     0.432265     0.360435     0.693305     1.762217\n",
       "min       1.000000     1.000000     0.000000    42.985767  -114.082215\n",
       "25%       1.000000     1.000000     0.000000    43.641345   -79.414319\n",
       "50%       1.000000     1.000000     0.000000    43.650560   -79.387295\n",
       "75%       2.000000     1.000000     0.000000    43.666461   -79.377062\n",
       "max       3.000000     3.000000     1.000000    56.130366   -73.576385"
      ]
     },
     "execution_count": 12,
     "metadata": {},
     "output_type": "execute_result"
    }
   ],
   "source": [
    "df.describe()"
   ]
  },
  {
   "cell_type": "code",
   "execution_count": 13,
   "id": "fe27c77b",
   "metadata": {},
   "outputs": [
    {
     "name": "stdout",
     "output_type": "stream",
     "text": [
      "<class 'pandas.core.frame.DataFrame'>\n",
      "RangeIndex: 1122 entries, 0 to 1121\n",
      "Data columns (total 7 columns):\n",
      " #   Column    Non-Null Count  Dtype  \n",
      "---  ------    --------------  -----  \n",
      " 0   Bedroom   1122 non-null   int64  \n",
      " 1   Bathroom  1122 non-null   float64\n",
      " 2   Den       1122 non-null   int64  \n",
      " 3   Address   1122 non-null   object \n",
      " 4   Lat       1122 non-null   float64\n",
      " 5   Long      1122 non-null   float64\n",
      " 6   Price     1122 non-null   object \n",
      "dtypes: float64(3), int64(2), object(2)\n",
      "memory usage: 61.5+ KB\n"
     ]
    }
   ],
   "source": [
    "df.info()"
   ]
  },
  {
   "cell_type": "code",
   "execution_count": 14,
   "id": "d6bd4b27",
   "metadata": {},
   "outputs": [
    {
     "data": {
      "text/html": [
       "<div>\n",
       "<style scoped>\n",
       "    .dataframe tbody tr th:only-of-type {\n",
       "        vertical-align: middle;\n",
       "    }\n",
       "\n",
       "    .dataframe tbody tr th {\n",
       "        vertical-align: top;\n",
       "    }\n",
       "\n",
       "    .dataframe thead th {\n",
       "        text-align: right;\n",
       "    }\n",
       "</style>\n",
       "<table border=\"1\" class=\"dataframe\">\n",
       "  <thead>\n",
       "    <tr style=\"text-align: right;\">\n",
       "      <th></th>\n",
       "      <th>Bedroom</th>\n",
       "      <th>Bathroom</th>\n",
       "      <th>Den</th>\n",
       "      <th>Price</th>\n",
       "    </tr>\n",
       "  </thead>\n",
       "  <tbody>\n",
       "    <tr>\n",
       "      <th>0</th>\n",
       "      <td>2</td>\n",
       "      <td>2.0</td>\n",
       "      <td>0</td>\n",
       "      <td>$2,450.00</td>\n",
       "    </tr>\n",
       "    <tr>\n",
       "      <th>1</th>\n",
       "      <td>1</td>\n",
       "      <td>1.0</td>\n",
       "      <td>1</td>\n",
       "      <td>$2,150.00</td>\n",
       "    </tr>\n",
       "    <tr>\n",
       "      <th>2</th>\n",
       "      <td>1</td>\n",
       "      <td>1.0</td>\n",
       "      <td>0</td>\n",
       "      <td>$1,950.00</td>\n",
       "    </tr>\n",
       "    <tr>\n",
       "      <th>3</th>\n",
       "      <td>2</td>\n",
       "      <td>2.0</td>\n",
       "      <td>0</td>\n",
       "      <td>$2,900.00</td>\n",
       "    </tr>\n",
       "    <tr>\n",
       "      <th>4</th>\n",
       "      <td>1</td>\n",
       "      <td>1.0</td>\n",
       "      <td>0</td>\n",
       "      <td>$1,800.00</td>\n",
       "    </tr>\n",
       "  </tbody>\n",
       "</table>\n",
       "</div>"
      ],
      "text/plain": [
       "   Bedroom  Bathroom  Den       Price\n",
       "0        2       2.0    0  $2,450.00 \n",
       "1        1       1.0    1  $2,150.00 \n",
       "2        1       1.0    0  $1,950.00 \n",
       "3        2       2.0    0  $2,900.00 \n",
       "4        1       1.0    0  $1,800.00 "
      ]
     },
     "execution_count": 14,
     "metadata": {},
     "output_type": "execute_result"
    }
   ],
   "source": [
    "dataset = df.copy()\n",
    "df.drop(columns = ['Address','Lat','Long'], inplace = True)\n",
    "df.head()"
   ]
  },
  {
   "cell_type": "code",
   "execution_count": 16,
   "id": "8123acf8",
   "metadata": {},
   "outputs": [
    {
     "data": {
      "text/html": [
       "<div>\n",
       "<style scoped>\n",
       "    .dataframe tbody tr th:only-of-type {\n",
       "        vertical-align: middle;\n",
       "    }\n",
       "\n",
       "    .dataframe tbody tr th {\n",
       "        vertical-align: top;\n",
       "    }\n",
       "\n",
       "    .dataframe thead th {\n",
       "        text-align: right;\n",
       "    }\n",
       "</style>\n",
       "<table border=\"1\" class=\"dataframe\">\n",
       "  <thead>\n",
       "    <tr style=\"text-align: right;\">\n",
       "      <th></th>\n",
       "      <th>Bedroom</th>\n",
       "      <th>Bathroom</th>\n",
       "      <th>Den</th>\n",
       "    </tr>\n",
       "  </thead>\n",
       "  <tbody>\n",
       "    <tr>\n",
       "      <th>count</th>\n",
       "      <td>1122.000000</td>\n",
       "      <td>1122.000000</td>\n",
       "      <td>1122.000000</td>\n",
       "    </tr>\n",
       "    <tr>\n",
       "      <th>mean</th>\n",
       "      <td>1.370766</td>\n",
       "      <td>1.237968</td>\n",
       "      <td>0.153298</td>\n",
       "    </tr>\n",
       "    <tr>\n",
       "      <th>std</th>\n",
       "      <td>0.553765</td>\n",
       "      <td>0.432265</td>\n",
       "      <td>0.360435</td>\n",
       "    </tr>\n",
       "    <tr>\n",
       "      <th>min</th>\n",
       "      <td>1.000000</td>\n",
       "      <td>1.000000</td>\n",
       "      <td>0.000000</td>\n",
       "    </tr>\n",
       "    <tr>\n",
       "      <th>25%</th>\n",
       "      <td>1.000000</td>\n",
       "      <td>1.000000</td>\n",
       "      <td>0.000000</td>\n",
       "    </tr>\n",
       "    <tr>\n",
       "      <th>50%</th>\n",
       "      <td>1.000000</td>\n",
       "      <td>1.000000</td>\n",
       "      <td>0.000000</td>\n",
       "    </tr>\n",
       "    <tr>\n",
       "      <th>75%</th>\n",
       "      <td>2.000000</td>\n",
       "      <td>1.000000</td>\n",
       "      <td>0.000000</td>\n",
       "    </tr>\n",
       "    <tr>\n",
       "      <th>max</th>\n",
       "      <td>3.000000</td>\n",
       "      <td>3.000000</td>\n",
       "      <td>1.000000</td>\n",
       "    </tr>\n",
       "  </tbody>\n",
       "</table>\n",
       "</div>"
      ],
      "text/plain": [
       "           Bedroom     Bathroom          Den\n",
       "count  1122.000000  1122.000000  1122.000000\n",
       "mean      1.370766     1.237968     0.153298\n",
       "std       0.553765     0.432265     0.360435\n",
       "min       1.000000     1.000000     0.000000\n",
       "25%       1.000000     1.000000     0.000000\n",
       "50%       1.000000     1.000000     0.000000\n",
       "75%       2.000000     1.000000     0.000000\n",
       "max       3.000000     3.000000     1.000000"
      ]
     },
     "execution_count": 16,
     "metadata": {},
     "output_type": "execute_result"
    }
   ],
   "source": [
    "df.describe()"
   ]
  },
  {
   "cell_type": "code",
   "execution_count": 17,
   "id": "fd2f92a4",
   "metadata": {},
   "outputs": [
    {
     "data": {
      "text/html": [
       "<div>\n",
       "<style scoped>\n",
       "    .dataframe tbody tr th:only-of-type {\n",
       "        vertical-align: middle;\n",
       "    }\n",
       "\n",
       "    .dataframe tbody tr th {\n",
       "        vertical-align: top;\n",
       "    }\n",
       "\n",
       "    .dataframe thead th {\n",
       "        text-align: right;\n",
       "    }\n",
       "</style>\n",
       "<table border=\"1\" class=\"dataframe\">\n",
       "  <thead>\n",
       "    <tr style=\"text-align: right;\">\n",
       "      <th></th>\n",
       "      <th>Bedroom</th>\n",
       "      <th>Bathroom</th>\n",
       "      <th>Den</th>\n",
       "      <th>Price</th>\n",
       "      <th>house_price</th>\n",
       "    </tr>\n",
       "  </thead>\n",
       "  <tbody>\n",
       "    <tr>\n",
       "      <th>0</th>\n",
       "      <td>2</td>\n",
       "      <td>2.0</td>\n",
       "      <td>0</td>\n",
       "      <td>$2,450.00</td>\n",
       "      <td>2,450</td>\n",
       "    </tr>\n",
       "    <tr>\n",
       "      <th>1</th>\n",
       "      <td>1</td>\n",
       "      <td>1.0</td>\n",
       "      <td>1</td>\n",
       "      <td>$2,150.00</td>\n",
       "      <td>2,150</td>\n",
       "    </tr>\n",
       "    <tr>\n",
       "      <th>2</th>\n",
       "      <td>1</td>\n",
       "      <td>1.0</td>\n",
       "      <td>0</td>\n",
       "      <td>$1,950.00</td>\n",
       "      <td>1,950</td>\n",
       "    </tr>\n",
       "    <tr>\n",
       "      <th>3</th>\n",
       "      <td>2</td>\n",
       "      <td>2.0</td>\n",
       "      <td>0</td>\n",
       "      <td>$2,900.00</td>\n",
       "      <td>2,900</td>\n",
       "    </tr>\n",
       "    <tr>\n",
       "      <th>4</th>\n",
       "      <td>1</td>\n",
       "      <td>1.0</td>\n",
       "      <td>0</td>\n",
       "      <td>$1,800.00</td>\n",
       "      <td>1,800</td>\n",
       "    </tr>\n",
       "    <tr>\n",
       "      <th>...</th>\n",
       "      <td>...</td>\n",
       "      <td>...</td>\n",
       "      <td>...</td>\n",
       "      <td>...</td>\n",
       "      <td>...</td>\n",
       "    </tr>\n",
       "    <tr>\n",
       "      <th>1117</th>\n",
       "      <td>3</td>\n",
       "      <td>1.0</td>\n",
       "      <td>0</td>\n",
       "      <td>$3,000.00</td>\n",
       "      <td>3,000</td>\n",
       "    </tr>\n",
       "    <tr>\n",
       "      <th>1118</th>\n",
       "      <td>1</td>\n",
       "      <td>1.0</td>\n",
       "      <td>0</td>\n",
       "      <td>$1,200.00</td>\n",
       "      <td>1,200</td>\n",
       "    </tr>\n",
       "    <tr>\n",
       "      <th>1119</th>\n",
       "      <td>1</td>\n",
       "      <td>1.0</td>\n",
       "      <td>0</td>\n",
       "      <td>$1,800.00</td>\n",
       "      <td>1,800</td>\n",
       "    </tr>\n",
       "    <tr>\n",
       "      <th>1120</th>\n",
       "      <td>2</td>\n",
       "      <td>1.0</td>\n",
       "      <td>0</td>\n",
       "      <td>$2,200.00</td>\n",
       "      <td>2,200</td>\n",
       "    </tr>\n",
       "    <tr>\n",
       "      <th>1121</th>\n",
       "      <td>1</td>\n",
       "      <td>1.0</td>\n",
       "      <td>0</td>\n",
       "      <td>$2,150.00</td>\n",
       "      <td>2,150</td>\n",
       "    </tr>\n",
       "  </tbody>\n",
       "</table>\n",
       "<p>1122 rows × 5 columns</p>\n",
       "</div>"
      ],
      "text/plain": [
       "      Bedroom  Bathroom  Den       Price house_price\n",
       "0           2       2.0    0  $2,450.00        2,450\n",
       "1           1       1.0    1  $2,150.00        2,150\n",
       "2           1       1.0    0  $1,950.00        1,950\n",
       "3           2       2.0    0  $2,900.00        2,900\n",
       "4           1       1.0    0  $1,800.00        1,800\n",
       "...       ...       ...  ...         ...         ...\n",
       "1117        3       1.0    0  $3,000.00        3,000\n",
       "1118        1       1.0    0  $1,200.00        1,200\n",
       "1119        1       1.0    0  $1,800.00        1,800\n",
       "1120        2       1.0    0  $2,200.00        2,200\n",
       "1121        1       1.0    0  $2,150.00        2,150\n",
       "\n",
       "[1122 rows x 5 columns]"
      ]
     },
     "execution_count": 17,
     "metadata": {},
     "output_type": "execute_result"
    }
   ],
   "source": [
    "df['house_price'] = df['Price'].apply(lambda x:  str(x)[1:6])\n",
    "df"
   ]
  },
  {
   "cell_type": "code",
   "execution_count": 18,
   "id": "6f499183",
   "metadata": {},
   "outputs": [
    {
     "data": {
      "text/html": [
       "<div>\n",
       "<style scoped>\n",
       "    .dataframe tbody tr th:only-of-type {\n",
       "        vertical-align: middle;\n",
       "    }\n",
       "\n",
       "    .dataframe tbody tr th {\n",
       "        vertical-align: top;\n",
       "    }\n",
       "\n",
       "    .dataframe thead th {\n",
       "        text-align: right;\n",
       "    }\n",
       "</style>\n",
       "<table border=\"1\" class=\"dataframe\">\n",
       "  <thead>\n",
       "    <tr style=\"text-align: right;\">\n",
       "      <th></th>\n",
       "      <th>Bedroom</th>\n",
       "      <th>Bathroom</th>\n",
       "      <th>Den</th>\n",
       "      <th>Price</th>\n",
       "      <th>house_price</th>\n",
       "    </tr>\n",
       "  </thead>\n",
       "  <tbody>\n",
       "    <tr>\n",
       "      <th>0</th>\n",
       "      <td>2</td>\n",
       "      <td>2.0</td>\n",
       "      <td>0</td>\n",
       "      <td>$2,450.00</td>\n",
       "      <td>2450</td>\n",
       "    </tr>\n",
       "    <tr>\n",
       "      <th>1</th>\n",
       "      <td>1</td>\n",
       "      <td>1.0</td>\n",
       "      <td>1</td>\n",
       "      <td>$2,150.00</td>\n",
       "      <td>2150</td>\n",
       "    </tr>\n",
       "    <tr>\n",
       "      <th>2</th>\n",
       "      <td>1</td>\n",
       "      <td>1.0</td>\n",
       "      <td>0</td>\n",
       "      <td>$1,950.00</td>\n",
       "      <td>1950</td>\n",
       "    </tr>\n",
       "    <tr>\n",
       "      <th>3</th>\n",
       "      <td>2</td>\n",
       "      <td>2.0</td>\n",
       "      <td>0</td>\n",
       "      <td>$2,900.00</td>\n",
       "      <td>2900</td>\n",
       "    </tr>\n",
       "    <tr>\n",
       "      <th>4</th>\n",
       "      <td>1</td>\n",
       "      <td>1.0</td>\n",
       "      <td>0</td>\n",
       "      <td>$1,800.00</td>\n",
       "      <td>1800</td>\n",
       "    </tr>\n",
       "    <tr>\n",
       "      <th>...</th>\n",
       "      <td>...</td>\n",
       "      <td>...</td>\n",
       "      <td>...</td>\n",
       "      <td>...</td>\n",
       "      <td>...</td>\n",
       "    </tr>\n",
       "    <tr>\n",
       "      <th>1117</th>\n",
       "      <td>3</td>\n",
       "      <td>1.0</td>\n",
       "      <td>0</td>\n",
       "      <td>$3,000.00</td>\n",
       "      <td>3000</td>\n",
       "    </tr>\n",
       "    <tr>\n",
       "      <th>1118</th>\n",
       "      <td>1</td>\n",
       "      <td>1.0</td>\n",
       "      <td>0</td>\n",
       "      <td>$1,200.00</td>\n",
       "      <td>1200</td>\n",
       "    </tr>\n",
       "    <tr>\n",
       "      <th>1119</th>\n",
       "      <td>1</td>\n",
       "      <td>1.0</td>\n",
       "      <td>0</td>\n",
       "      <td>$1,800.00</td>\n",
       "      <td>1800</td>\n",
       "    </tr>\n",
       "    <tr>\n",
       "      <th>1120</th>\n",
       "      <td>2</td>\n",
       "      <td>1.0</td>\n",
       "      <td>0</td>\n",
       "      <td>$2,200.00</td>\n",
       "      <td>2200</td>\n",
       "    </tr>\n",
       "    <tr>\n",
       "      <th>1121</th>\n",
       "      <td>1</td>\n",
       "      <td>1.0</td>\n",
       "      <td>0</td>\n",
       "      <td>$2,150.00</td>\n",
       "      <td>2150</td>\n",
       "    </tr>\n",
       "  </tbody>\n",
       "</table>\n",
       "<p>1122 rows × 5 columns</p>\n",
       "</div>"
      ],
      "text/plain": [
       "      Bedroom  Bathroom  Den       Price house_price\n",
       "0           2       2.0    0  $2,450.00         2450\n",
       "1           1       1.0    1  $2,150.00         2150\n",
       "2           1       1.0    0  $1,950.00         1950\n",
       "3           2       2.0    0  $2,900.00         2900\n",
       "4           1       1.0    0  $1,800.00         1800\n",
       "...       ...       ...  ...         ...         ...\n",
       "1117        3       1.0    0  $3,000.00         3000\n",
       "1118        1       1.0    0  $1,200.00         1200\n",
       "1119        1       1.0    0  $1,800.00         1800\n",
       "1120        2       1.0    0  $2,200.00         2200\n",
       "1121        1       1.0    0  $2,150.00         2150\n",
       "\n",
       "[1122 rows x 5 columns]"
      ]
     },
     "execution_count": 18,
     "metadata": {},
     "output_type": "execute_result"
    }
   ],
   "source": [
    "df['house_price'] = df['house_price'].str.replace(',','')\n",
    "df"
   ]
  },
  {
   "cell_type": "code",
   "execution_count": 34,
   "id": "cc6d1f29",
   "metadata": {},
   "outputs": [
    {
     "data": {
      "text/plain": [
       "array([[<AxesSubplot:title={'center':'Bedroom'}>,\n",
       "        <AxesSubplot:title={'center':'Bathroom'}>],\n",
       "       [<AxesSubplot:title={'center':'Den'}>,\n",
       "        <AxesSubplot:title={'center':'house_price'}>]], dtype=object)"
      ]
     },
     "execution_count": 34,
     "metadata": {},
     "output_type": "execute_result"
    },
    {
     "data": {
      "image/png": "[encoded data removed]",
      "text/plain": [
       "<Figure size 432x288 with 4 Axes>"
      ]
     },
     "metadata": {
      "needs_background": "light"
     },
     "output_type": "display_data"
    }
   ],
   "source": [
    "df.hist()"
   ]
  },
  {
   "cell_type": "code",
   "execution_count": 23,
   "id": "b24e32ae",
   "metadata": {},
   "outputs": [
    {
     "ename": "KeyError",
     "evalue": "\"['Price'] not found in axis\"",
     "output_type": "error",
     "traceback": [
      "\u001b[1;31m---------------------------------------------------------------------------\u001b[0m",
      "\u001b[1;31mKeyError\u001b[0m                                  Traceback (most recent call last)",
      "Input \u001b[1;32mIn [23]\u001b[0m, in \u001b[0;36m<module>\u001b[1;34m\u001b[0m\n\u001b[1;32m----> 1\u001b[0m \u001b[43mdf\u001b[49m\u001b[38;5;241;43m.\u001b[39;49m\u001b[43mdrop\u001b[49m\u001b[43m(\u001b[49m\u001b[43mcolumns\u001b[49m\u001b[38;5;241;43m=\u001b[39;49m\u001b[43m[\u001b[49m\u001b[38;5;124;43m'\u001b[39;49m\u001b[38;5;124;43mPrice\u001b[39;49m\u001b[38;5;124;43m'\u001b[39;49m\u001b[43m]\u001b[49m\u001b[43m,\u001b[49m\u001b[43minplace\u001b[49m\u001b[43m \u001b[49m\u001b[38;5;241;43m=\u001b[39;49m\u001b[43m \u001b[49m\u001b[38;5;28;43;01mTrue\u001b[39;49;00m\u001b[43m)\u001b[49m\n",
      "File \u001b[1;32m~\\AppData\\Local\\Programs\\Python\\Python310\\lib\\site-packages\\pandas\\util\\_decorators.py:311\u001b[0m, in \u001b[0;36mdeprecate_nonkeyword_arguments.<locals>.decorate.<locals>.wrapper\u001b[1;34m(*args, **kwargs)\u001b[0m\n\u001b[0;32m    305\u001b[0m \u001b[38;5;28;01mif\u001b[39;00m \u001b[38;5;28mlen\u001b[39m(args) \u001b[38;5;241m>\u001b[39m num_allow_args:\n\u001b[0;32m    306\u001b[0m     warnings\u001b[38;5;241m.\u001b[39mwarn(\n\u001b[0;32m    307\u001b[0m         msg\u001b[38;5;241m.\u001b[39mformat(arguments\u001b[38;5;241m=\u001b[39marguments),\n\u001b[0;32m    308\u001b[0m         \u001b[38;5;167;01mFutureWarning\u001b[39;00m,\n\u001b[0;32m    309\u001b[0m         stacklevel\u001b[38;5;241m=\u001b[39mstacklevel,\n\u001b[0;32m    310\u001b[0m     )\n\u001b[1;32m--> 311\u001b[0m \u001b[38;5;28;01mreturn\u001b[39;00m func(\u001b[38;5;241m*\u001b[39margs, \u001b[38;5;241m*\u001b[39m\u001b[38;5;241m*\u001b[39mkwargs)\n",
      "File \u001b[1;32m~\\AppData\\Local\\Programs\\Python\\Python310\\lib\\site-packages\\pandas\\core\\frame.py:4956\u001b[0m, in \u001b[0;36mDataFrame.drop\u001b[1;34m(self, labels, axis, index, columns, level, inplace, errors)\u001b[0m\n\u001b[0;32m   4808\u001b[0m \u001b[38;5;129m@deprecate_nonkeyword_arguments\u001b[39m(version\u001b[38;5;241m=\u001b[39m\u001b[38;5;28;01mNone\u001b[39;00m, allowed_args\u001b[38;5;241m=\u001b[39m[\u001b[38;5;124m\"\u001b[39m\u001b[38;5;124mself\u001b[39m\u001b[38;5;124m\"\u001b[39m, \u001b[38;5;124m\"\u001b[39m\u001b[38;5;124mlabels\u001b[39m\u001b[38;5;124m\"\u001b[39m])\n\u001b[0;32m   4809\u001b[0m \u001b[38;5;28;01mdef\u001b[39;00m \u001b[38;5;21mdrop\u001b[39m(\n\u001b[0;32m   4810\u001b[0m     \u001b[38;5;28mself\u001b[39m,\n\u001b[1;32m   (...)\u001b[0m\n\u001b[0;32m   4817\u001b[0m     errors: \u001b[38;5;28mstr\u001b[39m \u001b[38;5;241m=\u001b[39m \u001b[38;5;124m\"\u001b[39m\u001b[38;5;124mraise\u001b[39m\u001b[38;5;124m\"\u001b[39m,\n\u001b[0;32m   4818\u001b[0m ):\n\u001b[0;32m   4819\u001b[0m     \u001b[38;5;124;03m\"\"\"\u001b[39;00m\n\u001b[0;32m   4820\u001b[0m \u001b[38;5;124;03m    Drop specified labels from rows or columns.\u001b[39;00m\n\u001b[0;32m   4821\u001b[0m \n\u001b[1;32m   (...)\u001b[0m\n\u001b[0;32m   4954\u001b[0m \u001b[38;5;124;03m            weight  1.0     0.8\u001b[39;00m\n\u001b[0;32m   4955\u001b[0m \u001b[38;5;124;03m    \"\"\"\u001b[39;00m\n\u001b[1;32m-> 4956\u001b[0m     \u001b[38;5;28;01mreturn\u001b[39;00m \u001b[38;5;28;43msuper\u001b[39;49m\u001b[43m(\u001b[49m\u001b[43m)\u001b[49m\u001b[38;5;241;43m.\u001b[39;49m\u001b[43mdrop\u001b[49m\u001b[43m(\u001b[49m\n\u001b[0;32m   4957\u001b[0m \u001b[43m        \u001b[49m\u001b[43mlabels\u001b[49m\u001b[38;5;241;43m=\u001b[39;49m\u001b[43mlabels\u001b[49m\u001b[43m,\u001b[49m\n\u001b[0;32m   4958\u001b[0m \u001b[43m        \u001b[49m\u001b[43maxis\u001b[49m\u001b[38;5;241;43m=\u001b[39;49m\u001b[43maxis\u001b[49m\u001b[43m,\u001b[49m\n\u001b[0;32m   4959\u001b[0m \u001b[43m        \u001b[49m\u001b[43mindex\u001b[49m\u001b[38;5;241;43m=\u001b[39;49m\u001b[43mindex\u001b[49m\u001b[43m,\u001b[49m\n\u001b[0;32m   4960\u001b[0m \u001b[43m        \u001b[49m\u001b[43mcolumns\u001b[49m\u001b[38;5;241;43m=\u001b[39;49m\u001b[43mcolumns\u001b[49m\u001b[43m,\u001b[49m\n\u001b[0;32m   4961\u001b[0m \u001b[43m        \u001b[49m\u001b[43mlevel\u001b[49m\u001b[38;5;241;43m=\u001b[39;49m\u001b[43mlevel\u001b[49m\u001b[43m,\u001b[49m\n\u001b[0;32m   4962\u001b[0m \u001b[43m        \u001b[49m\u001b[43minplace\u001b[49m\u001b[38;5;241;43m=\u001b[39;49m\u001b[43minplace\u001b[49m\u001b[43m,\u001b[49m\n\u001b[0;32m   4963\u001b[0m \u001b[43m        \u001b[49m\u001b[43merrors\u001b[49m\u001b[38;5;241;43m=\u001b[39;49m\u001b[43merrors\u001b[49m\u001b[43m,\u001b[49m\n\u001b[0;32m   4964\u001b[0m \u001b[43m    \u001b[49m\u001b[43m)\u001b[49m\n",
      "File \u001b[1;32m~\\AppData\\Local\\Programs\\Python\\Python310\\lib\\site-packages\\pandas\\core\\generic.py:4279\u001b[0m, in \u001b[0;36mNDFrame.drop\u001b[1;34m(self, labels, axis, index, columns, level, inplace, errors)\u001b[0m\n\u001b[0;32m   4277\u001b[0m \u001b[38;5;28;01mfor\u001b[39;00m axis, labels \u001b[38;5;129;01min\u001b[39;00m axes\u001b[38;5;241m.\u001b[39mitems():\n\u001b[0;32m   4278\u001b[0m     \u001b[38;5;28;01mif\u001b[39;00m labels \u001b[38;5;129;01mis\u001b[39;00m \u001b[38;5;129;01mnot\u001b[39;00m \u001b[38;5;28;01mNone\u001b[39;00m:\n\u001b[1;32m-> 4279\u001b[0m         obj \u001b[38;5;241m=\u001b[39m \u001b[43mobj\u001b[49m\u001b[38;5;241;43m.\u001b[39;49m\u001b[43m_drop_axis\u001b[49m\u001b[43m(\u001b[49m\u001b[43mlabels\u001b[49m\u001b[43m,\u001b[49m\u001b[43m \u001b[49m\u001b[43maxis\u001b[49m\u001b[43m,\u001b[49m\u001b[43m \u001b[49m\u001b[43mlevel\u001b[49m\u001b[38;5;241;43m=\u001b[39;49m\u001b[43mlevel\u001b[49m\u001b[43m,\u001b[49m\u001b[43m \u001b[49m\u001b[43merrors\u001b[49m\u001b[38;5;241;43m=\u001b[39;49m\u001b[43merrors\u001b[49m\u001b[43m)\u001b[49m\n\u001b[0;32m   4281\u001b[0m \u001b[38;5;28;01mif\u001b[39;00m inplace:\n\u001b[0;32m   4282\u001b[0m     \u001b[38;5;28mself\u001b[39m\u001b[38;5;241m.\u001b[39m_update_inplace(obj)\n",
      "File \u001b[1;32m~\\AppData\\Local\\Programs\\Python\\Python310\\lib\\site-packages\\pandas\\core\\generic.py:4323\u001b[0m, in \u001b[0;36mNDFrame._drop_axis\u001b[1;34m(self, labels, axis, level, errors, consolidate, only_slice)\u001b[0m\n\u001b[0;32m   4321\u001b[0m         new_axis \u001b[38;5;241m=\u001b[39m axis\u001b[38;5;241m.\u001b[39mdrop(labels, level\u001b[38;5;241m=\u001b[39mlevel, errors\u001b[38;5;241m=\u001b[39merrors)\n\u001b[0;32m   4322\u001b[0m     \u001b[38;5;28;01melse\u001b[39;00m:\n\u001b[1;32m-> 4323\u001b[0m         new_axis \u001b[38;5;241m=\u001b[39m \u001b[43maxis\u001b[49m\u001b[38;5;241;43m.\u001b[39;49m\u001b[43mdrop\u001b[49m\u001b[43m(\u001b[49m\u001b[43mlabels\u001b[49m\u001b[43m,\u001b[49m\u001b[43m \u001b[49m\u001b[43merrors\u001b[49m\u001b[38;5;241;43m=\u001b[39;49m\u001b[43merrors\u001b[49m\u001b[43m)\u001b[49m\n\u001b[0;32m   4324\u001b[0m     indexer \u001b[38;5;241m=\u001b[39m axis\u001b[38;5;241m.\u001b[39mget_indexer(new_axis)\n\u001b[0;32m   4326\u001b[0m \u001b[38;5;66;03m# Case for non-unique axis\u001b[39;00m\n\u001b[0;32m   4327\u001b[0m \u001b[38;5;28;01melse\u001b[39;00m:\n",
      "File \u001b[1;32m~\\AppData\\Local\\Programs\\Python\\Python310\\lib\\site-packages\\pandas\\core\\indexes\\base.py:6644\u001b[0m, in \u001b[0;36mIndex.drop\u001b[1;34m(self, labels, errors)\u001b[0m\n\u001b[0;32m   6642\u001b[0m \u001b[38;5;28;01mif\u001b[39;00m mask\u001b[38;5;241m.\u001b[39many():\n\u001b[0;32m   6643\u001b[0m     \u001b[38;5;28;01mif\u001b[39;00m errors \u001b[38;5;241m!=\u001b[39m \u001b[38;5;124m\"\u001b[39m\u001b[38;5;124mignore\u001b[39m\u001b[38;5;124m\"\u001b[39m:\n\u001b[1;32m-> 6644\u001b[0m         \u001b[38;5;28;01mraise\u001b[39;00m \u001b[38;5;167;01mKeyError\u001b[39;00m(\u001b[38;5;124mf\u001b[39m\u001b[38;5;124m\"\u001b[39m\u001b[38;5;132;01m{\u001b[39;00m\u001b[38;5;28mlist\u001b[39m(labels[mask])\u001b[38;5;132;01m}\u001b[39;00m\u001b[38;5;124m not found in axis\u001b[39m\u001b[38;5;124m\"\u001b[39m)\n\u001b[0;32m   6645\u001b[0m     indexer \u001b[38;5;241m=\u001b[39m indexer[\u001b[38;5;241m~\u001b[39mmask]\n\u001b[0;32m   6646\u001b[0m \u001b[38;5;28;01mreturn\u001b[39;00m \u001b[38;5;28mself\u001b[39m\u001b[38;5;241m.\u001b[39mdelete(indexer)\n",
      "\u001b[1;31mKeyError\u001b[0m: \"['Price'] not found in axis\""
     ]
    }
   ],
   "source": [
    "df.drop(columns=['Price'],inplace = True)"
   ]
  },
  {
   "cell_type": "code",
   "execution_count": 24,
   "id": "cf65f301",
   "metadata": {},
   "outputs": [
    {
     "name": "stdout",
     "output_type": "stream",
     "text": [
      "<class 'pandas.core.frame.DataFrame'>\n",
      "RangeIndex: 1122 entries, 0 to 1121\n",
      "Data columns (total 4 columns):\n",
      " #   Column       Non-Null Count  Dtype  \n",
      "---  ------       --------------  -----  \n",
      " 0   Bedroom      1122 non-null   int64  \n",
      " 1   Bathroom     1122 non-null   float64\n",
      " 2   Den          1122 non-null   int64  \n",
      " 3   house_price  1122 non-null   float64\n",
      "dtypes: float64(2), int64(2)\n",
      "memory usage: 35.2 KB\n"
     ]
    }
   ],
   "source": [
    "df['house_price'] = df['house_price'].astype(float)\n",
    "df.info()"
   ]
  },
  {
   "cell_type": "code",
   "execution_count": 25,
   "id": "777919c1",
   "metadata": {},
   "outputs": [],
   "source": [
    "x_data = np.array(df.iloc[: , :-1].values, dtype='float32'\n",
    "y_data = np.array(df.iloc[:, -1].values,dtype='float32')"
   ]
  },
  {
   "cell_type": "code",
   "execution_count": 26,
   "id": "b4624e32",
   "metadata": {},
   "outputs": [
    {
     "data": {
      "text/plain": [
       "array([[2., 2., 0.],\n",
       "       [1., 1., 1.],\n",
       "       [1., 1., 0.],\n",
       "       ...,\n",
       "       [1., 1., 0.],\n",
       "       [2., 1., 0.],\n",
       "       [1., 1., 0.]], dtype=float32)"
      ]
     },
     "execution_count": 26,
     "metadata": {},
     "output_type": "execute_result"
    }
   ],
   "source": [
    "x_data"
   ]
  },
  {
   "cell_type": "code",
   "execution_count": 27,
   "id": "28305c5f",
   "metadata": {},
   "outputs": [
    {
     "data": {
      "text/plain": [
       "array([2450., 2150., 1950., ..., 1800., 2200., 2150.], dtype=float32)"
      ]
     },
     "execution_count": 27,
     "metadata": {},
     "output_type": "execute_result"
    }
   ],
   "source": [
    "y_data"
   ]
  },
  {
   "cell_type": "code",
   "execution_count": 35,
   "id": "76b8702d",
   "metadata": {},
   "outputs": [],
   "source": [
    "def split_train_test(data, test_ratio = 0.2):\n",
    "    shuffled_indices = np.random.permutation(len(data))\n",
    "    test_set_size = int(len(data) * test_ratio)\n",
    "    test_indices = shuffled_indices[:test_set_size]\n",
    "    train_indices = shuffled_indices[test_set_size:]\n",
    "    return data.iloc[train_indices], data.iloc[test_indices]"
   ]
  },
  {
   "cell_type": "code",
   "execution_count": 37,
   "id": "57ee762b",
   "metadata": {},
   "outputs": [],
   "source": [
    "train_set, test_set = split_train_test(df)"
   ]
  },
  {
   "cell_type": "code",
   "execution_count": 38,
   "id": "3987c0bf",
   "metadata": {},
   "outputs": [
    {
     "data": {
      "text/html": [
       "<div>\n",
       "<style scoped>\n",
       "    .dataframe tbody tr th:only-of-type {\n",
       "        vertical-align: middle;\n",
       "    }\n",
       "\n",
       "    .dataframe tbody tr th {\n",
       "        vertical-align: top;\n",
       "    }\n",
       "\n",
       "    .dataframe thead th {\n",
       "        text-align: right;\n",
       "    }\n",
       "</style>\n",
       "<table border=\"1\" class=\"dataframe\">\n",
       "  <thead>\n",
       "    <tr style=\"text-align: right;\">\n",
       "      <th></th>\n",
       "      <th>Bedroom</th>\n",
       "      <th>Bathroom</th>\n",
       "      <th>Den</th>\n",
       "      <th>house_price</th>\n",
       "    </tr>\n",
       "  </thead>\n",
       "  <tbody>\n",
       "    <tr>\n",
       "      <th>627</th>\n",
       "      <td>1</td>\n",
       "      <td>1.0</td>\n",
       "      <td>1</td>\n",
       "      <td>2450.0</td>\n",
       "    </tr>\n",
       "    <tr>\n",
       "      <th>630</th>\n",
       "      <td>1</td>\n",
       "      <td>1.0</td>\n",
       "      <td>1</td>\n",
       "      <td>1799.0</td>\n",
       "    </tr>\n",
       "    <tr>\n",
       "      <th>191</th>\n",
       "      <td>1</td>\n",
       "      <td>1.0</td>\n",
       "      <td>0</td>\n",
       "      <td>1750.0</td>\n",
       "    </tr>\n",
       "    <tr>\n",
       "      <th>288</th>\n",
       "      <td>1</td>\n",
       "      <td>2.0</td>\n",
       "      <td>1</td>\n",
       "      <td>2150.0</td>\n",
       "    </tr>\n",
       "    <tr>\n",
       "      <th>827</th>\n",
       "      <td>3</td>\n",
       "      <td>3.0</td>\n",
       "      <td>0</td>\n",
       "      <td>2500.0</td>\n",
       "    </tr>\n",
       "    <tr>\n",
       "      <th>...</th>\n",
       "      <td>...</td>\n",
       "      <td>...</td>\n",
       "      <td>...</td>\n",
       "      <td>...</td>\n",
       "    </tr>\n",
       "    <tr>\n",
       "      <th>340</th>\n",
       "      <td>2</td>\n",
       "      <td>2.0</td>\n",
       "      <td>0</td>\n",
       "      <td>3700.0</td>\n",
       "    </tr>\n",
       "    <tr>\n",
       "      <th>106</th>\n",
       "      <td>2</td>\n",
       "      <td>2.0</td>\n",
       "      <td>0</td>\n",
       "      <td>2450.0</td>\n",
       "    </tr>\n",
       "    <tr>\n",
       "      <th>1012</th>\n",
       "      <td>1</td>\n",
       "      <td>2.0</td>\n",
       "      <td>1</td>\n",
       "      <td>1800.0</td>\n",
       "    </tr>\n",
       "    <tr>\n",
       "      <th>170</th>\n",
       "      <td>2</td>\n",
       "      <td>2.0</td>\n",
       "      <td>0</td>\n",
       "      <td>2900.0</td>\n",
       "    </tr>\n",
       "    <tr>\n",
       "      <th>900</th>\n",
       "      <td>3</td>\n",
       "      <td>3.0</td>\n",
       "      <td>0</td>\n",
       "      <td>4500.0</td>\n",
       "    </tr>\n",
       "  </tbody>\n",
       "</table>\n",
       "<p>898 rows × 4 columns</p>\n",
       "</div>"
      ],
      "text/plain": [
       "      Bedroom  Bathroom  Den  house_price\n",
       "627         1       1.0    1       2450.0\n",
       "630         1       1.0    1       1799.0\n",
       "191         1       1.0    0       1750.0\n",
       "288         1       2.0    1       2150.0\n",
       "827         3       3.0    0       2500.0\n",
       "...       ...       ...  ...          ...\n",
       "340         2       2.0    0       3700.0\n",
       "106         2       2.0    0       2450.0\n",
       "1012        1       2.0    1       1800.0\n",
       "170         2       2.0    0       2900.0\n",
       "900         3       3.0    0       4500.0\n",
       "\n",
       "[898 rows x 4 columns]"
      ]
     },
     "execution_count": 38,
     "metadata": {},
     "output_type": "execute_result"
    }
   ],
   "source": [
    "train_set"
   ]
  },
  {
   "cell_type": "code",
   "execution_count": 40,
   "id": "a08bc57a",
   "metadata": {},
   "outputs": [],
   "source": [
    "train_x_data = np.array(train_set.iloc[: , :-1].values, dtype='float32')\n",
    "train_y_data = np.array(train_set.iloc[:, -1].values,dtype='float32')"
   ]
  },
  {
   "cell_type": "code",
   "execution_count": 45,
   "id": "1b060962",
   "metadata": {},
   "outputs": [],
   "source": [
    "test_x_data = np.array(test_set.iloc[: , :-1].values, dtype='float32')\n",
    "test_y_data = np.array(test_set.iloc[:, -1].values,dtype='float32')"
   ]
  },
  {
   "cell_type": "code",
   "execution_count": 46,
   "id": "0df87ce0",
   "metadata": {},
   "outputs": [
    {
     "data": {
      "text/plain": [
       "array([[1. , 1. , 0. ],\n",
       "       [1. , 1. , 0. ],\n",
       "       [1. , 1. , 0. ],\n",
       "       [1. , 1. , 0. ],\n",
       "       [2. , 2. , 0. ],\n",
       "       [1. , 1. , 0. ],\n",
       "       [1. , 1. , 1. ],\n",
       "       [1. , 1. , 1. ],\n",
       "       [1. , 1. , 0. ],\n",
       "       [1. , 1. , 0. ],\n",
       "       [1. , 1. , 0. ],\n",
       "       [2. , 2. , 0. ],\n",
       "       [1. , 1. , 0. ],\n",
       "       [2. , 2. , 0. ],\n",
       "       [1. , 1. , 0. ],\n",
       "       [1. , 1. , 0. ],\n",
       "       [2. , 1. , 0. ],\n",
       "       [1. , 1. , 0. ],\n",
       "       [3. , 2. , 0. ],\n",
       "       [1. , 1. , 0. ],\n",
       "       [1. , 1. , 0. ],\n",
       "       [1. , 1. , 1. ],\n",
       "       [1. , 1. , 0. ],\n",
       "       [1. , 1. , 0. ],\n",
       "       [1. , 1. , 1. ],\n",
       "       [2. , 2. , 0. ],\n",
       "       [1. , 1. , 0. ],\n",
       "       [1. , 1. , 1. ],\n",
       "       [1. , 1. , 0. ],\n",
       "       [2. , 2. , 0. ],\n",
       "       [1. , 1. , 0. ],\n",
       "       [2. , 1. , 0. ],\n",
       "       [2. , 1. , 0. ],\n",
       "       [1. , 1. , 0. ],\n",
       "       [1. , 1. , 1. ],\n",
       "       [1. , 1. , 0. ],\n",
       "       [1. , 2. , 1. ],\n",
       "       [1. , 1. , 0. ],\n",
       "       [1. , 1. , 1. ],\n",
       "       [2. , 2. , 0. ],\n",
       "       [1. , 1. , 0. ],\n",
       "       [1. , 1. , 0. ],\n",
       "       [2. , 2. , 0. ],\n",
       "       [1. , 1. , 0. ],\n",
       "       [1. , 1. , 0. ],\n",
       "       [1. , 1. , 0. ],\n",
       "       [1. , 1. , 0. ],\n",
       "       [2. , 1.5, 0. ],\n",
       "       [1. , 1. , 1. ],\n",
       "       [2. , 2. , 0. ],\n",
       "       [2. , 2. , 0. ],\n",
       "       [1. , 2. , 1. ],\n",
       "       [1. , 1. , 0. ],\n",
       "       [2. , 1. , 0. ],\n",
       "       [1. , 1. , 0. ],\n",
       "       [2. , 1. , 0. ],\n",
       "       [2. , 1. , 0. ],\n",
       "       [1. , 1. , 0. ],\n",
       "       [2. , 1. , 0. ],\n",
       "       [2. , 1. , 0. ],\n",
       "       [1. , 1. , 0. ],\n",
       "       [1. , 1. , 0. ],\n",
       "       [1. , 1. , 0. ],\n",
       "       [2. , 1. , 0. ],\n",
       "       [1. , 1. , 0. ],\n",
       "       [1. , 1. , 1. ],\n",
       "       [2. , 2. , 0. ],\n",
       "       [1. , 1. , 0. ],\n",
       "       [1. , 1. , 0. ],\n",
       "       [1. , 1.5, 0. ],\n",
       "       [2. , 1. , 0. ],\n",
       "       [2. , 1. , 0. ],\n",
       "       [1. , 1. , 1. ],\n",
       "       [1. , 1. , 0. ],\n",
       "       [1. , 1. , 0. ],\n",
       "       [2. , 2. , 0. ],\n",
       "       [1. , 1. , 0. ],\n",
       "       [2. , 2. , 0. ],\n",
       "       [2. , 2. , 0. ],\n",
       "       [1. , 1. , 0. ],\n",
       "       [2. , 1. , 0. ],\n",
       "       [1. , 1. , 1. ],\n",
       "       [2. , 2. , 0. ],\n",
       "       [2. , 1. , 0. ],\n",
       "       [1. , 1. , 0. ],\n",
       "       [2. , 2. , 0. ],\n",
       "       [1. , 1. , 0. ],\n",
       "       [1. , 1. , 0. ],\n",
       "       [1. , 1. , 1. ],\n",
       "       [1. , 1. , 0. ],\n",
       "       [2. , 2. , 0. ],\n",
       "       [2. , 1. , 0. ],\n",
       "       [1. , 1. , 0. ],\n",
       "       [1. , 1. , 0. ],\n",
       "       [2. , 2. , 0. ],\n",
       "       [1. , 1. , 0. ],\n",
       "       [3. , 1. , 0. ],\n",
       "       [1. , 1. , 0. ],\n",
       "       [1. , 1. , 1. ],\n",
       "       [2. , 1. , 0. ],\n",
       "       [1. , 1. , 0. ],\n",
       "       [1. , 1. , 0. ],\n",
       "       [2. , 1.5, 0. ],\n",
       "       [2. , 2. , 0. ],\n",
       "       [1. , 1. , 0. ],\n",
       "       [1. , 1. , 0. ],\n",
       "       [1. , 1. , 0. ],\n",
       "       [1. , 1. , 0. ],\n",
       "       [1. , 1. , 0. ],\n",
       "       [2. , 2. , 0. ],\n",
       "       [1. , 1. , 0. ],\n",
       "       [1. , 1. , 0. ],\n",
       "       [2. , 1.5, 0. ],\n",
       "       [2. , 2. , 0. ],\n",
       "       [2. , 1. , 0. ],\n",
       "       [1. , 1.5, 1. ],\n",
       "       [1. , 1. , 1. ],\n",
       "       [1. , 1. , 0. ],\n",
       "       [2. , 2. , 0. ],\n",
       "       [1. , 1. , 0. ],\n",
       "       [1. , 1. , 0. ],\n",
       "       [1. , 1. , 0. ],\n",
       "       [1. , 1. , 1. ],\n",
       "       [1. , 1.5, 1. ],\n",
       "       [1. , 1. , 0. ],\n",
       "       [1. , 1. , 1. ],\n",
       "       [2. , 2. , 0. ],\n",
       "       [1. , 1. , 1. ],\n",
       "       [1. , 1. , 0. ],\n",
       "       [2. , 2. , 0. ],\n",
       "       [1. , 1. , 0. ],\n",
       "       [1. , 1. , 0. ],\n",
       "       [1. , 1. , 1. ],\n",
       "       [1. , 1. , 0. ],\n",
       "       [1. , 1. , 0. ],\n",
       "       [2. , 2. , 0. ],\n",
       "       [2. , 2. , 0. ],\n",
       "       [1. , 1. , 1. ],\n",
       "       [2. , 1.5, 0. ],\n",
       "       [1. , 1. , 0. ],\n",
       "       [1. , 1. , 1. ],\n",
       "       [1. , 1. , 0. ],\n",
       "       [1. , 1. , 0. ],\n",
       "       [3. , 2. , 0. ],\n",
       "       [1. , 1. , 0. ],\n",
       "       [1. , 1. , 0. ],\n",
       "       [1. , 1. , 0. ],\n",
       "       [2. , 2. , 0. ],\n",
       "       [1. , 1. , 0. ],\n",
       "       [2. , 1. , 0. ],\n",
       "       [2. , 2. , 0. ],\n",
       "       [1. , 1. , 1. ],\n",
       "       [1. , 1. , 0. ],\n",
       "       [3. , 2. , 0. ],\n",
       "       [1. , 1. , 1. ],\n",
       "       [1. , 1. , 1. ],\n",
       "       [1. , 1. , 0. ],\n",
       "       [2. , 2. , 0. ],\n",
       "       [1. , 1. , 0. ],\n",
       "       [1. , 1.5, 0. ],\n",
       "       [2. , 2. , 0. ],\n",
       "       [1. , 1. , 0. ],\n",
       "       [1. , 1. , 0. ],\n",
       "       [1. , 1. , 0. ],\n",
       "       [1. , 1. , 1. ],\n",
       "       [1. , 1. , 0. ],\n",
       "       [1. , 1. , 1. ],\n",
       "       [2. , 2. , 0. ],\n",
       "       [2. , 1. , 0. ],\n",
       "       [1. , 1. , 0. ],\n",
       "       [1. , 1. , 0. ],\n",
       "       [1. , 1. , 0. ],\n",
       "       [2. , 1. , 0. ],\n",
       "       [2. , 1. , 0. ],\n",
       "       [1. , 1. , 0. ],\n",
       "       [2. , 2. , 0. ],\n",
       "       [2. , 1. , 0. ],\n",
       "       [1. , 1. , 0. ],\n",
       "       [1. , 1. , 0. ],\n",
       "       [1. , 1. , 0. ],\n",
       "       [2. , 2. , 0. ],\n",
       "       [1. , 1. , 0. ],\n",
       "       [2. , 2. , 0. ],\n",
       "       [2. , 1. , 0. ],\n",
       "       [2. , 2. , 0. ],\n",
       "       [2. , 1. , 0. ],\n",
       "       [2. , 2. , 0. ],\n",
       "       [1. , 1. , 0. ],\n",
       "       [1. , 1. , 0. ],\n",
       "       [1. , 1. , 0. ],\n",
       "       [1. , 1. , 0. ],\n",
       "       [2. , 2. , 0. ],\n",
       "       [2. , 2. , 0. ],\n",
       "       [2. , 2. , 0. ],\n",
       "       [2. , 2. , 0. ],\n",
       "       [2. , 2. , 0. ],\n",
       "       [1. , 1. , 0. ],\n",
       "       [1. , 1. , 0. ],\n",
       "       [1. , 1. , 0. ],\n",
       "       [1. , 1. , 0. ],\n",
       "       [1. , 1. , 1. ],\n",
       "       [1. , 1. , 0. ],\n",
       "       [1. , 1. , 1. ],\n",
       "       [2. , 1. , 0. ],\n",
       "       [1. , 1.5, 1. ],\n",
       "       [1. , 1. , 0. ],\n",
       "       [1. , 1. , 1. ],\n",
       "       [1. , 2. , 1. ],\n",
       "       [2. , 2. , 0. ],\n",
       "       [2. , 2.5, 0. ],\n",
       "       [2. , 1. , 0. ],\n",
       "       [1. , 1. , 0. ],\n",
       "       [1. , 1. , 0. ],\n",
       "       [2. , 2. , 0. ],\n",
       "       [1. , 1. , 0. ],\n",
       "       [1. , 1. , 0. ],\n",
       "       [2. , 2. , 0. ],\n",
       "       [1. , 1. , 1. ],\n",
       "       [1. , 1. , 0. ],\n",
       "       [2. , 1. , 0. ],\n",
       "       [1. , 1. , 0. ],\n",
       "       [1. , 1. , 0. ],\n",
       "       [1. , 1. , 0. ],\n",
       "       [2. , 2. , 0. ]], dtype=float32)"
      ]
     },
     "execution_count": 46,
     "metadata": {},
     "output_type": "execute_result"
    }
   ],
   "source": [
    "test_x_data"
   ]
  },
  {
   "cell_type": "code",
   "execution_count": 47,
   "id": "0231c8dd",
   "metadata": {},
   "outputs": [
    {
     "data": {
      "text/plain": [
       "224"
      ]
     },
     "execution_count": 47,
     "metadata": {},
     "output_type": "execute_result"
    }
   ],
   "source": [
    "len(test_x_data)"
   ]
  },
  {
   "cell_type": "code",
   "execution_count": 48,
   "id": "f5031d63",
   "metadata": {},
   "outputs": [
    {
     "data": {
      "text/plain": [
       "898"
      ]
     },
     "execution_count": 48,
     "metadata": {},
     "output_type": "execute_result"
    }
   ],
   "source": [
    "len(train_x_data)"
   ]
  },
  {
   "cell_type": "code",
   "execution_count": 49,
   "id": "e629c4b4",
   "metadata": {},
   "outputs": [],
   "source": [
    "np.savetxt('train_x_data.csv', train_x_data, delimiter=',') \n",
    "np.savetxt('train_y_data.csv', train_y_data, delimiter=',') \n",
    "np.savetxt('test_x_data.csv', test_x_data, delimiter=',') \n",
    "np.savetxt('test_y_data.csv', test_y_data, delimiter=',') \n"
   ]
  },
  {
   "cell_type": "code",
   "execution_count": 53,
   "id": "eae85ac8",
   "metadata": {},
   "outputs": [
    {
     "data": {
      "text/plain": [
       "224"
      ]
     },
     "execution_count": 53,
     "metadata": {},
     "output_type": "execute_result"
    }
   ],
   "source": [
    "len(test_y_data)"
   ]
  },
  {
   "cell_type": "code",
   "execution_count": 52,
   "id": "89c34b7e",
   "metadata": {},
   "outputs": [
    {
     "data": {
      "text/plain": [
       "898"
      ]
     },
     "execution_count": 52,
     "metadata": {},
     "output_type": "execute_result"
    }
   ],
   "source": [
    "len(train_y_data)"
   ]
  },
  {
   "cell_type": "code",
   "execution_count": 54,
   "id": "bf5b59d9",
   "metadata": {},
   "outputs": [],
   "source": [
    "import sklearn as sk"
   ]
  },
  {
   "cell_type": "code",
   "execution_count": 55,
   "id": "39933178",
   "metadata": {},
   "outputs": [],
   "source": [
    "from sklearn.linear_model import LinearRegression "
   ]
  },
  {
   "cell_type": "code",
   "execution_count": 57,
   "id": "b2bc285f",
   "metadata": {},
   "outputs": [
    {
     "data": {
      "text/plain": [
       "LinearRegression()"
      ]
     },
     "execution_count": 57,
     "metadata": {},
     "output_type": "execute_result"
    }
   ],
   "source": [
    "model = LinearRegression()\n",
    "model.fit(train_x_data,train_y_data)"
   ]
  },
  {
   "cell_type": "code",
   "execution_count": 58,
   "id": "561acdb9",
   "metadata": {},
   "outputs": [],
   "source": [
    "y_predict = model.predict(test_x_data)"
   ]
  },
  {
   "cell_type": "code",
   "execution_count": 59,
   "id": "6c46693b",
   "metadata": {},
   "outputs": [],
   "source": [
    "testingdf = pd.DataFrame({'Actual': test_y_data, 'Predicted': y_predict})"
   ]
  },
  {
   "cell_type": "code",
   "execution_count": 63,
   "id": "a7576a58",
   "metadata": {},
   "outputs": [
    {
     "data": {
      "text/html": [
       "<div>\n",
       "<style scoped>\n",
       "    .dataframe tbody tr th:only-of-type {\n",
       "        vertical-align: middle;\n",
       "    }\n",
       "\n",
       "    .dataframe tbody tr th {\n",
       "        vertical-align: top;\n",
       "    }\n",
       "\n",
       "    .dataframe thead th {\n",
       "        text-align: right;\n",
       "    }\n",
       "</style>\n",
       "<table border=\"1\" class=\"dataframe\">\n",
       "  <thead>\n",
       "    <tr style=\"text-align: right;\">\n",
       "      <th></th>\n",
       "      <th>Actual</th>\n",
       "      <th>Predicted</th>\n",
       "    </tr>\n",
       "  </thead>\n",
       "  <tbody>\n",
       "    <tr>\n",
       "      <th>0</th>\n",
       "      <td>2000.0</td>\n",
       "      <td>1881.750610</td>\n",
       "    </tr>\n",
       "    <tr>\n",
       "      <th>1</th>\n",
       "      <td>1929.0</td>\n",
       "      <td>1881.750610</td>\n",
       "    </tr>\n",
       "    <tr>\n",
       "      <th>2</th>\n",
       "      <td>2480.0</td>\n",
       "      <td>1881.750610</td>\n",
       "    </tr>\n",
       "    <tr>\n",
       "      <th>3</th>\n",
       "      <td>2500.0</td>\n",
       "      <td>1881.750610</td>\n",
       "    </tr>\n",
       "    <tr>\n",
       "      <th>4</th>\n",
       "      <td>1500.0</td>\n",
       "      <td>2771.592773</td>\n",
       "    </tr>\n",
       "    <tr>\n",
       "      <th>5</th>\n",
       "      <td>2500.0</td>\n",
       "      <td>1881.750610</td>\n",
       "    </tr>\n",
       "    <tr>\n",
       "      <th>6</th>\n",
       "      <td>2300.0</td>\n",
       "      <td>2174.459473</td>\n",
       "    </tr>\n",
       "    <tr>\n",
       "      <th>7</th>\n",
       "      <td>1650.0</td>\n",
       "      <td>2174.459473</td>\n",
       "    </tr>\n",
       "    <tr>\n",
       "      <th>8</th>\n",
       "      <td>2299.0</td>\n",
       "      <td>1881.750610</td>\n",
       "    </tr>\n",
       "    <tr>\n",
       "      <th>9</th>\n",
       "      <td>2500.0</td>\n",
       "      <td>1881.750610</td>\n",
       "    </tr>\n",
       "  </tbody>\n",
       "</table>\n",
       "</div>"
      ],
      "text/plain": [
       "   Actual    Predicted\n",
       "0  2000.0  1881.750610\n",
       "1  1929.0  1881.750610\n",
       "2  2480.0  1881.750610\n",
       "3  2500.0  1881.750610\n",
       "4  1500.0  2771.592773\n",
       "5  2500.0  1881.750610\n",
       "6  2300.0  2174.459473\n",
       "7  1650.0  2174.459473\n",
       "8  2299.0  1881.750610\n",
       "9  2500.0  1881.750610"
      ]
     },
     "execution_count": 63,
     "metadata": {},
     "output_type": "execute_result"
    }
   ],
   "source": [
    "testingdf.head(10)"
   ]
  },
  {
   "cell_type": "code",
   "execution_count": 62,
   "id": "4f10626f",
   "metadata": {},
   "outputs": [
    {
     "name": "stdout",
     "output_type": "stream",
     "text": [
      "Mean Absolute Error: 504.7214\n",
      "Mean Squared Error: 643541.94\n",
      "Root Mean Squared Error: 802.21063\n"
     ]
    }
   ],
   "source": [
    "from sklearn import metrics\n",
    "print('Mean Absolute Error:', metrics.mean_absolute_error(test_y_data, y_predict))\n",
    "print('Mean Squared Error:', metrics.mean_squared_error(test_y_data, y_predict))\n",
    "print('Root Mean Squared Error:', np.sqrt(metrics.mean_squared_error(test_y_data, y_predict)))"
   ]
  },
  {
   "cell_type": "code",
   "execution_count": null,
   "id": "485ce1f1",
   "metadata": {},
   "outputs": [],
   "source": []
  }
 ],
 "metadata": {
  "kernelspec": {
   "display_name": "Python 3 (ipykernel)",
   "language": "python",
   "name": "python3"
  },
  "language_info": {
   "codemirror_mode": {
    "name": "ipython",
    "version": 3
   },
   "file_extension": ".py",
   "mimetype": "text/x-python",
   "name": "python",
   "nbconvert_exporter": "python",
   "pygments_lexer": "ipython3",
   "version": "3.10.2"
  }
 },
 "nbformat": 4,
 "nbformat_minor": 5
}
